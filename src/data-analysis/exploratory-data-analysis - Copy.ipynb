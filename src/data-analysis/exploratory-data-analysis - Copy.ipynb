{
 "cells": [
  {
   "cell_type": "code",
   "execution_count": 7,
   "metadata": {},
   "outputs": [
    {
     "data": {
      "text/html": [
       "<div>\n",
       "<style scoped>\n",
       "    .dataframe tbody tr th:only-of-type {\n",
       "        vertical-align: middle;\n",
       "    }\n",
       "\n",
       "    .dataframe tbody tr th {\n",
       "        vertical-align: top;\n",
       "    }\n",
       "\n",
       "    .dataframe thead th {\n",
       "        text-align: right;\n",
       "    }\n",
       "</style>\n",
       "<table border=\"1\" class=\"dataframe\">\n",
       "  <thead>\n",
       "    <tr style=\"text-align: right;\">\n",
       "      <th></th>\n",
       "      <th>chapterNo</th>\n",
       "      <th>chapterTitle</th>\n",
       "      <th>sectionNo</th>\n",
       "      <th>sectionTitle</th>\n",
       "      <th>sentence</th>\n",
       "      <th>sentence_cleaned</th>\n",
       "    </tr>\n",
       "  </thead>\n",
       "  <tbody>\n",
       "    <tr>\n",
       "      <th>0</th>\n",
       "      <td>1</td>\n",
       "      <td>PART 1</td>\n",
       "      <td>1</td>\n",
       "      <td>Power and Magnificence of Kublai</td>\n",
       "      <td>Now I am to give you a wonderful account of th...</td>\n",
       "      <td>give wonderful account greatest king tartars s...</td>\n",
       "    </tr>\n",
       "    <tr>\n",
       "      <th>1</th>\n",
       "      <td>1</td>\n",
       "      <td>PART 1</td>\n",
       "      <td>1</td>\n",
       "      <td>Power and Magnificence of Kublai</td>\n",
       "      <td>That name is assuredly well merited, since he ...</td>\n",
       "      <td>name assuredly well merited since powerful peo...</td>\n",
       "    </tr>\n",
       "    <tr>\n",
       "      <th>2</th>\n",
       "      <td>1</td>\n",
       "      <td>PART 1</td>\n",
       "      <td>1</td>\n",
       "      <td>Power and Magnificence of Kublai</td>\n",
       "      <td>Whosoever descends in the direct line from Gen...</td>\n",
       "      <td>whosoever descends direct line gengis entitled...</td>\n",
       "    </tr>\n",
       "    <tr>\n",
       "      <th>3</th>\n",
       "      <td>1</td>\n",
       "      <td>PART 1</td>\n",
       "      <td>1</td>\n",
       "      <td>Power and Magnificence of Kublai</td>\n",
       "      <td>He began to reign in the year of our Lord 1256...</td>\n",
       "      <td>began reign year lord 1256and maintained domin...</td>\n",
       "    </tr>\n",
       "    <tr>\n",
       "      <th>4</th>\n",
       "      <td>1</td>\n",
       "      <td>PART 1</td>\n",
       "      <td>1</td>\n",
       "      <td>Power and Magnificence of Kublai</td>\n",
       "      <td>His brothers sought to oppose his succession, ...</td>\n",
       "      <td>brothers sought oppose succession bravery righ...</td>\n",
       "    </tr>\n",
       "    <tr>\n",
       "      <th>5</th>\n",
       "      <td>1</td>\n",
       "      <td>PART 1</td>\n",
       "      <td>1</td>\n",
       "      <td>Power and Magnificence of Kublai</td>\n",
       "      <td>t From the beginning of his reign, forty-two y...</td>\n",
       "      <td>beginning reign fortytwo years elapsed present...</td>\n",
       "    </tr>\n",
       "    <tr>\n",
       "      <th>6</th>\n",
       "      <td>1</td>\n",
       "      <td>PART 1</td>\n",
       "      <td>1</td>\n",
       "      <td>Power and Magnificence of Kublai</td>\n",
       "      <td>He is now full eighty-five years old, and befo...</td>\n",
       "      <td>full eightyfive years old accession commanded ...</td>\n",
       "    </tr>\n",
       "    <tr>\n",
       "      <th>7</th>\n",
       "      <td>1</td>\n",
       "      <td>PART 1</td>\n",
       "      <td>1</td>\n",
       "      <td>Power and Magnificence of Kublai</td>\n",
       "      <td>But since that time he has joined the army onl...</td>\n",
       "      <td>since time joined army year 1286 tell occasion</td>\n",
       "    </tr>\n",
       "    <tr>\n",
       "      <th>8</th>\n",
       "      <td>1</td>\n",
       "      <td>PART 1</td>\n",
       "      <td>10</td>\n",
       "      <td>His magnificent Palace in Kambalu</td>\n",
       "      <td>He resides in the vast city of Kambalu, three ...</td>\n",
       "      <td>resides vast city kambalu three months year de...</td>\n",
       "    </tr>\n",
       "    <tr>\n",
       "      <th>9</th>\n",
       "      <td>1</td>\n",
       "      <td>PART 1</td>\n",
       "      <td>10</td>\n",
       "      <td>His magnificent Palace in Kambalu</td>\n",
       "      <td>It is a complete square, a mile long on every ...</td>\n",
       "      <td>complete square mile long every side whole fou...</td>\n",
       "    </tr>\n",
       "  </tbody>\n",
       "</table>\n",
       "</div>"
      ],
      "text/plain": [
       "   chapterNo chapterTitle  sectionNo                       sectionTitle  \\\n",
       "0          1       PART 1          1   Power and Magnificence of Kublai   \n",
       "1          1       PART 1          1   Power and Magnificence of Kublai   \n",
       "2          1       PART 1          1   Power and Magnificence of Kublai   \n",
       "3          1       PART 1          1   Power and Magnificence of Kublai   \n",
       "4          1       PART 1          1   Power and Magnificence of Kublai   \n",
       "5          1       PART 1          1   Power and Magnificence of Kublai   \n",
       "6          1       PART 1          1   Power and Magnificence of Kublai   \n",
       "7          1       PART 1          1   Power and Magnificence of Kublai   \n",
       "8          1       PART 1         10  His magnificent Palace in Kambalu   \n",
       "9          1       PART 1         10  His magnificent Palace in Kambalu   \n",
       "\n",
       "                                            sentence  \\\n",
       "0  Now I am to give you a wonderful account of th...   \n",
       "1  That name is assuredly well merited, since he ...   \n",
       "2  Whosoever descends in the direct line from Gen...   \n",
       "3  He began to reign in the year of our Lord 1256...   \n",
       "4  His brothers sought to oppose his succession, ...   \n",
       "5  t From the beginning of his reign, forty-two y...   \n",
       "6  He is now full eighty-five years old, and befo...   \n",
       "7  But since that time he has joined the army onl...   \n",
       "8  He resides in the vast city of Kambalu, three ...   \n",
       "9  It is a complete square, a mile long on every ...   \n",
       "\n",
       "                                    sentence_cleaned  \n",
       "0  give wonderful account greatest king tartars s...  \n",
       "1  name assuredly well merited since powerful peo...  \n",
       "2  whosoever descends direct line gengis entitled...  \n",
       "3  began reign year lord 1256and maintained domin...  \n",
       "4  brothers sought oppose succession bravery righ...  \n",
       "5  beginning reign fortytwo years elapsed present...  \n",
       "6  full eightyfive years old accession commanded ...  \n",
       "7     since time joined army year 1286 tell occasion  \n",
       "8  resides vast city kambalu three months year de...  \n",
       "9  complete square mile long every side whole fou...  "
      ]
     },
     "execution_count": 7,
     "metadata": {},
     "output_type": "execute_result"
    }
   ],
   "source": [
    "import os\n",
    "import pandas as pd\n",
    "import numpy as np\n",
    "import matplotlib.mlab as mlab\n",
    "import matplotlib.pyplot as plt\n",
    "%matplotlib inline\n",
    "\n",
    "basepath = os.path.dirname(os.path.abspath('__file__'))\n",
    "datapath = basepath + '/data/hugh-murray/'\n",
    "readfile1 = 'chapter1/chapter1-processed.csv'\n",
    "readfile2 = 'chapter2/chapter2-processed.csv'\n",
    "readfile3 = 'chapter3/chapter3-processed.csv'\n",
    "#readfile_total = 'total/index.csv'\n",
    "\n",
    "df1 = pd.read_csv(datapath + readfile1,sep='\\t',encoding='ISO-8859-1')\n",
    "df2 = pd.read_csv(datapath + readfile2,sep='\\t',encoding='ISO-8859-1')\n",
    "df3 = pd.read_csv(datapath + readfile3,sep='\\t',encoding='ISO-8859-1')\n",
    "#df_total = pd.read_csv(datapath + readfile_total,encoding='ISO-8859-1')\n",
    "\n",
    "\n",
    "df1.head(10)\n"
   ]
  },
  {
   "cell_type": "code",
   "execution_count": 8,
   "metadata": {},
   "outputs": [
    {
     "ename": "NameError",
     "evalue": "name 'df' is not defined",
     "output_type": "error",
     "traceback": [
      "\u001b[1;31m---------------------------------------------------------------------------\u001b[0m",
      "\u001b[1;31mNameError\u001b[0m                                 Traceback (most recent call last)",
      "\u001b[1;32m<ipython-input-8-3acb317c7790>\u001b[0m in \u001b[0;36m<module>\u001b[1;34m\u001b[0m\n\u001b[0;32m     14\u001b[0m     \u001b[0mplt\u001b[0m\u001b[1;33m.\u001b[0m\u001b[0mshow\u001b[0m\u001b[1;33m(\u001b[0m\u001b[1;33m)\u001b[0m\u001b[1;33m\u001b[0m\u001b[1;33m\u001b[0m\u001b[0m\n\u001b[0;32m     15\u001b[0m \u001b[1;33m\u001b[0m\u001b[0m\n\u001b[1;32m---> 16\u001b[1;33m \u001b[0mcommon_words_one_gram\u001b[0m \u001b[1;33m=\u001b[0m \u001b[0mget_top_n_words\u001b[0m\u001b[1;33m(\u001b[0m\u001b[0mdf\u001b[0m\u001b[1;33m[\u001b[0m\u001b[1;34m'sentence_cleaned'\u001b[0m\u001b[1;33m]\u001b[0m\u001b[1;33m,\u001b[0m \u001b[1;36m20\u001b[0m\u001b[1;33m,\u001b[0m\u001b[1;36m1\u001b[0m\u001b[1;33m)\u001b[0m\u001b[1;33m\u001b[0m\u001b[1;33m\u001b[0m\u001b[0m\n\u001b[0m\u001b[0;32m     17\u001b[0m \u001b[0mshow_plot\u001b[0m\u001b[1;33m(\u001b[0m\u001b[0mcommon_words_one_gram\u001b[0m\u001b[1;33m)\u001b[0m\u001b[1;33m\u001b[0m\u001b[1;33m\u001b[0m\u001b[0m\n\u001b[0;32m     18\u001b[0m \u001b[1;33m\u001b[0m\u001b[0m\n",
      "\u001b[1;31mNameError\u001b[0m: name 'df' is not defined"
     ]
    }
   ],
   "source": [
    "from sklearn.feature_extraction.text import CountVectorizer\n",
    "\n",
    "def get_top_n_words(corpus, n=None,n_gram=None):\n",
    "    vec = CountVectorizer(ngram_range=(n_gram,n_gram)).fit(corpus)\n",
    "    bag_of_words = vec.transform(corpus)\n",
    "    sum_words = bag_of_words.sum(axis=0) \n",
    "    words_freq = [(word, sum_words[0, idx]) for word, idx in vec.vocabulary_.items()]\n",
    "    words_freq =sorted(words_freq, key = lambda x: x[1], reverse=True)\n",
    "    return words_freq[:n]\n",
    "\n",
    "def show_plot(common_words):\n",
    "    df1 = pd.DataFrame(common_words, columns = ['cleanedText' , 'count'])\n",
    "    df1.groupby('cleanedText').sum()['count'].sort_values(ascending=False).plot.bar()\n",
    "    plt.show()\n",
    "    \n",
    "common_words_one_gram = get_top_n_words(df1['sentence_cleaned'], 20,1)\n",
    "show_plot(common_words_one_gram)\n",
    "\n",
    "common_words_bi_gram = get_top_n_words(df['sentence_cleaned'], 20,2)\n",
    "show_plot(common_words_bi_gram)\n",
    "\n",
    "common_words_tri_gram = get_top_n_words(df['sentence_cleaned'], 20,3)\n",
    "show_plot(common_words_tri_gram)\n",
    "\n",
    "#for word, freq in common_words:\n",
    "#    print(word, freq)\n",
    "\n",
    "\n"
   ]
  },
  {
   "cell_type": "code",
   "execution_count": 42,
   "metadata": {},
   "outputs": [
    {
     "data": {
      "image/png": "[encoded data removed]",
      "text/plain": [
       "<Figure size 432x288 with 1 Axes>"
      ]
     },
     "metadata": {
      "needs_background": "light"
     },
     "output_type": "display_data"
    }
   ],
   "source": [
    "from textblob import TextBlob\n",
    "\n",
    "blob = TextBlob(str(df['sentence']))\n",
    "pos_df = pd.DataFrame(blob.tags, columns = ['word' , 'pos'])\n",
    "pos_df = pos_df.pos.value_counts()[:20]\n",
    "pos_df.plot.bar()\n",
    "plt.show()\n"
   ]
  },
  {
   "cell_type": "code",
   "execution_count": 58,
   "metadata": {},
   "outputs": [
    {
     "data": {
      "text/plain": [
       "<matplotlib.axes._subplots.AxesSubplot at 0x13c50c10>"
      ]
     },
     "execution_count": 58,
     "metadata": {},
     "output_type": "execute_result"
    },
    {
     "data": {
      "image/png": "[encoded data removed]",
      "text/plain": [
       "<Figure size 432x288 with 1 Axes>"
      ]
     },
     "metadata": {
      "needs_background": "light"
     },
     "output_type": "display_data"
    }
   ],
   "source": [
    "df['review_len'] = df['sentence'].astype(str).apply(len)\n",
    "df['word_count'] = df['sentence'].apply(lambda x: len(str(x).split()))\n",
    "\n",
    "df['review_len'].plot(\n",
    "    kind='hist',\n",
    "    bins=100,\n",
    "    x='review length',\n",
    "    y='count',\n",
    "    title='Review Text Length Distribution')\n",
    "\n",
    "df['word_count'].plot(\n",
    "    kind='hist',\n",
    "    bins=100,\n",
    "    x='review length',\n",
    "    y='count',\n",
    "    title='Review Text Length Distribution')"
   ]
  },
  {
   "cell_type": "code",
   "execution_count": null,
   "metadata": {},
   "outputs": [],
   "source": []
  },
  {
   "cell_type": "code",
   "execution_count": null,
   "metadata": {},
   "outputs": [],
   "source": []
  }
 ],
 "metadata": {
  "kernelspec": {
   "display_name": "Python 3",
   "language": "python",
   "name": "python3"
  },
  "language_info": {
   "codemirror_mode": {
    "name": "ipython",
    "version": 3
   },
   "file_extension": ".py",
   "mimetype": "text/x-python",
   "name": "python",
   "nbconvert_exporter": "python",
   "pygments_lexer": "ipython3",
   "version": "3.7.3"
  }
 },
 "nbformat": 4,
 "nbformat_minor": 1
}
