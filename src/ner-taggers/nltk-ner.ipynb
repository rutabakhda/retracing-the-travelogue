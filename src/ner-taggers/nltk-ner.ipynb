{
 "cells": [
  {
   "cell_type": "code",
   "execution_count": null,
   "metadata": {},
   "outputs": [],
   "source": [
    "import nltk\n",
    "import re\n",
    "import time\n",
    "\n",
    "exampleArray = ['The incredibly intimidating NLP scares people away who are sissies.']\n",
    "contentArray =['Now I am to give you a wonderful account of the greatest king of the Tartars, still reigning, named Kublai, or lord of lords.',\n",
    "               'Overall, while it may seem there is already a Starbucks on every corner, Starbucks still has a lot of room to grow.',\n",
    "               'They just began expansion into food products, which has been going quite well so far for them.',\n",
    "               'I can attest that my own expenditure when going to Starbucks has increased, in lieu of these food products.',\n",
    "               'Starbucks is also indeed expanding their number of stores as well.',\n",
    "               'Starbucks still sees strong sales growth here in the united states, and intends to actually continue increasing this.',\n",
    "               'Starbucks also has one of the more successful loyalty programs, which accounts for 30%  of all transactions being loyalty-program-based.',\n",
    "               'As if news could not get any more positive for the company, Brazilian weather has become ideal for producing coffee beans.',\n",
    "               'Brazil is the world\\'s #1 coffee producer, the source of about 1/3rd of the entire world\\'s supply!',\n",
    "               'Given the dry weather, coffee farmers have amped up production, to take as much of an advantage as possible with the dry weather.',\n",
    "               'Increase in supply... well you know the rules...',]\n",
    "\n",
    "\n",
    "\n",
    "##let the fun begin!##\n",
    "def processLanguage():\n",
    "    try:\n",
    "        for item in contentArray:\n",
    "            tokenized = nltk.word_tokenize(item)\n",
    "            tagged = nltk.pos_tag(tokenized)\n",
    "            print (tagged)\n",
    "\n",
    "            namedEnt = nltk.ne_chunk(tagged)\n",
    "            namedEnt.draw()\n",
    "\n",
    "    except Exception as e:\n",
    "        print(e)\n",
    "        \n",
    "\n",
    "processLanguage()"
   ]
  },
  {
   "cell_type": "code",
   "execution_count": null,
   "metadata": {},
   "outputs": [],
   "source": [
    "import nltk\n",
    "from nltk.tokenize import word_tokenize\n",
    "from nltk.tag import pos_tag\n",
    "\n",
    "ex = 'European authorities fined Google a record $5.1 billion on Wednesday for abusing its power in the mobile phone market and ordered the company to alter its practices'\n",
    "\n",
    "def preprocess(sent):\n",
    "    sent = nltk.word_tokenize(sent)\n",
    "    sent = nltk.pos_tag(sent)\n",
    "    return sent\n",
    "\n",
    "sent = preprocess(ex)\n",
    "print(sent)\n",
    "\n",
    "pattern = 'NP: {<DT>?<JJ>*<NN>}'\n",
    "cp = nltk.RegexpParser(pattern)\n",
    "cs = cp.parse(sent)\n",
    "print(cs)\n",
    "\n",
    "from nltk.chunk import conlltags2tree, tree2conlltags\n",
    "from pprint import pprintiob_tagged = tree2conlltags(cs)\n",
    "print(iob_tagged)\n",
    "\n",
    "ne_tree = ne_chunk(pos_tag(word_tokenize(ex)))\n",
    "print(ne_tree)\n"
   ]
  },
  {
   "cell_type": "code",
   "execution_count": null,
   "metadata": {},
   "outputs": [],
   "source": []
  }
 ],
 "metadata": {
  "kernelspec": {
   "display_name": "Python 3",
   "language": "python",
   "name": "python3"
  },
  "language_info": {
   "codemirror_mode": {
    "name": "ipython",
    "version": 3
   },
   "file_extension": ".py",
   "mimetype": "text/x-python",
   "name": "python",
   "nbconvert_exporter": "python",
   "pygments_lexer": "ipython3",
   "version": "3.7.3"
  }
 },
 "nbformat": 4,
 "nbformat_minor": 2
}
